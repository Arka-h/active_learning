{
 "cells": [
  {
   "cell_type": "code",
   "execution_count": 1,
   "id": "eb9f4d59-8d48-41cc-bdd5-2a0d6e5be13e",
   "metadata": {},
   "outputs": [],
   "source": [
    "import torch \n",
    "import numpy\n",
    "import config\n",
    "from workflow import main"
   ]
  },
  {
   "cell_type": "code",
   "execution_count": 2,
   "id": "50fb8edd-6534-4ee4-9197-1b75bf3145d0",
   "metadata": {},
   "outputs": [],
   "source": [
    "config_file = 'experiments/sample-config.yaml'\n",
    "cfg = config.get_default_configs()\n",
    "cfg.merge_from_file(config_file)"
   ]
  },
  {
   "cell_type": "code",
   "execution_count": 3,
   "id": "d32cc22e-a605-452a-9dae-4514c6e59d92",
   "metadata": {},
   "outputs": [],
   "source": [
    "cfg.NUM_GPUS = torch.cuda.device_count()"
   ]
  },
  {
   "cell_type": "code",
   "execution_count": 4,
   "id": "cbf7a0c5-7e1d-4760-b480-975704673a68",
   "metadata": {},
   "outputs": [],
   "source": [
    "#main(0,cfg)"
   ]
  },
  {
   "cell_type": "code",
   "execution_count": 5,
   "id": "cb3d21b6-29e0-456c-a2a7-141159b81fd3",
   "metadata": {},
   "outputs": [
    {
     "data": {
      "text/plain": [
       "'manifold://oculus-nimble-tensorboard/tree/fung/exprs'"
      ]
     },
     "execution_count": 5,
     "metadata": {},
     "output_type": "execute_result"
    }
   ],
   "source": [
    "cfg.LOG_DIR"
   ]
  },
  {
   "cell_type": "code",
   "execution_count": 6,
   "id": "d358325a-9a79-4006-88f2-8c8794391eea",
   "metadata": {},
   "outputs": [],
   "source": [
    "import argparse"
   ]
  },
  {
   "cell_type": "code",
   "execution_count": 7,
   "id": "a1ce3f7a-87fc-4429-9539-06ae89e60724",
   "metadata": {},
   "outputs": [],
   "source": [
    "parser=argparse.ArgumentParser()"
   ]
  },
  {
   "cell_type": "code",
   "execution_count": 8,
   "id": "7779f45f-dcac-4021-a27a-7c0c0bc448fe",
   "metadata": {},
   "outputs": [
    {
     "data": {
      "text/plain": [
       "<bound method _ActionsContainer.add_argument of ArgumentParser(prog='ipykernel_launcher.py', usage=None, description=None, formatter_class=<class 'argparse.HelpFormatter'>, conflict_handler='error', add_help=True)>"
      ]
     },
     "execution_count": 8,
     "metadata": {},
     "output_type": "execute_result"
    }
   ],
   "source": [
    "parser.add_argument"
   ]
  },
  {
   "cell_type": "code",
   "execution_count": null,
   "id": "f6ce5dfb-7e02-46e3-a421-6aba658bf987",
   "metadata": {},
   "outputs": [],
   "source": []
  }
 ],
 "metadata": {
  "kernelspec": {
   "display_name": "my_env",
   "language": "python",
   "name": "my_env"
  },
  "language_info": {
   "codemirror_mode": {
    "name": "ipython",
    "version": 3
   },
   "file_extension": ".py",
   "mimetype": "text/x-python",
   "name": "python",
   "nbconvert_exporter": "python",
   "pygments_lexer": "ipython3",
   "version": "3.10.12"
  }
 },
 "nbformat": 4,
 "nbformat_minor": 5
}
